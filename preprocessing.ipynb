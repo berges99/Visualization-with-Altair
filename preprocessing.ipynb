{
 "cells": [
  {
   "cell_type": "markdown",
   "metadata": {},
   "source": [
    "## Data preprocessing"
   ]
  },
  {
   "cell_type": "code",
   "execution_count": 151,
   "metadata": {},
   "outputs": [],
   "source": [
    "# Filter the warnings\n",
    "import warnings\n",
    "\n",
    "warnings.filterwarnings('ignore')"
   ]
  },
  {
   "cell_type": "markdown",
   "metadata": {},
   "source": [
    "**Importing the libraries**"
   ]
  },
  {
   "cell_type": "code",
   "execution_count": 152,
   "metadata": {},
   "outputs": [],
   "source": [
    "# Miscellaneous libraries\n",
    "import numpy as np\n",
    "import pandas as pd\n",
    "\n",
    "# For pretty display of pandas dataframes in the notebook\n",
    "from IPython.display import display, HTML"
   ]
  },
  {
   "cell_type": "markdown",
   "metadata": {},
   "source": [
    "**Reading the data**"
   ]
  },
  {
   "cell_type": "markdown",
   "metadata": {},
   "source": [
    "Read file \"20years.csv\" from ./DATA/ folder inside the working directory. Take only the columns related with temperatures and parse the dates."
   ]
  },
  {
   "cell_type": "code",
   "execution_count": 153,
   "metadata": {},
   "outputs": [],
   "source": [
    "# Relative path to data file\n",
    "data_path = r'./DATA/20years.csv'\n",
    "\n",
    "# Read the file\n",
    "data = pd.read_csv(\n",
    "    data_path, usecols = ['DATE', 'TMAX', 'TMIN', 'TAVG', 'PRCP', 'SNOW'], parse_dates = ['DATE']\n",
    ")"
   ]
  },
  {
   "cell_type": "markdown",
   "metadata": {},
   "source": [
    "**Delete the 29 of February from the data, to avoid possible problems with pandas DateTimes**"
   ]
  },
  {
   "cell_type": "code",
   "execution_count": 154,
   "metadata": {},
   "outputs": [],
   "source": [
    "# Locate the 29th of february indices\n",
    "february29 = list(data[(data.DATE.dt.month == 2) & (data.DATE.dt.day == 29)].index)\n",
    "\n",
    "# Delete those indices from the data\n",
    "data = data.drop(february29).reset_index(drop = True)"
   ]
  },
  {
   "cell_type": "markdown",
   "metadata": {},
   "source": [
    "**Missing values**"
   ]
  },
  {
   "cell_type": "code",
   "execution_count": 155,
   "metadata": {},
   "outputs": [
    {
     "data": {
      "text/html": [
       "<div>\n",
       "<style scoped>\n",
       "    .dataframe tbody tr th:only-of-type {\n",
       "        vertical-align: middle;\n",
       "    }\n",
       "\n",
       "    .dataframe tbody tr th {\n",
       "        vertical-align: top;\n",
       "    }\n",
       "\n",
       "    .dataframe thead th {\n",
       "        text-align: right;\n",
       "    }\n",
       "</style>\n",
       "<table border=\"1\" class=\"dataframe\">\n",
       "  <thead>\n",
       "    <tr style=\"text-align: right;\">\n",
       "      <th></th>\n",
       "      <th>Total</th>\n",
       "      <th>Percent</th>\n",
       "    </tr>\n",
       "  </thead>\n",
       "  <tbody>\n",
       "    <tr>\n",
       "      <th>DATE</th>\n",
       "      <td>0</td>\n",
       "      <td>0.000000</td>\n",
       "    </tr>\n",
       "    <tr>\n",
       "      <th>PRCP</th>\n",
       "      <td>0</td>\n",
       "      <td>0.000000</td>\n",
       "    </tr>\n",
       "    <tr>\n",
       "      <th>SNOW</th>\n",
       "      <td>0</td>\n",
       "      <td>0.000000</td>\n",
       "    </tr>\n",
       "    <tr>\n",
       "      <th>TAVG</th>\n",
       "      <td>2894</td>\n",
       "      <td>37.756034</td>\n",
       "    </tr>\n",
       "    <tr>\n",
       "      <th>TMAX</th>\n",
       "      <td>0</td>\n",
       "      <td>0.000000</td>\n",
       "    </tr>\n",
       "    <tr>\n",
       "      <th>TMIN</th>\n",
       "      <td>0</td>\n",
       "      <td>0.000000</td>\n",
       "    </tr>\n",
       "  </tbody>\n",
       "</table>\n",
       "</div>"
      ],
      "text/plain": [
       "      Total    Percent\n",
       "DATE      0   0.000000\n",
       "PRCP      0   0.000000\n",
       "SNOW      0   0.000000\n",
       "TAVG   2894  37.756034\n",
       "TMAX      0   0.000000\n",
       "TMIN      0   0.000000"
      ]
     },
     "execution_count": 155,
     "metadata": {},
     "output_type": "execute_result"
    }
   ],
   "source": [
    "pd.concat(\n",
    "    [\n",
    "        data.isnull().sum(),\n",
    "        (data.isnull().sum() / data.isnull().count()*100)\n",
    "    ], \n",
    "    axis = 1, keys = ['Total', 'Percent']\n",
    ")"
   ]
  },
  {
   "cell_type": "code",
   "execution_count": 156,
   "metadata": {},
   "outputs": [
    {
     "name": "stdout",
     "output_type": "stream",
     "text": [
      "There are a total of 2894 missing values for the average temperatures.\n"
     ]
    }
   ],
   "source": [
    "print(f'There are a total of {data.TAVG.isna().sum()} missing values for the average temperatures.')"
   ]
  },
  {
   "cell_type": "markdown",
   "metadata": {},
   "source": [
    "Imput the missing values with the mean between the maximum and the minimum of that same day:"
   ]
  },
  {
   "cell_type": "code",
   "execution_count": 157,
   "metadata": {},
   "outputs": [],
   "source": [
    "data['TAVG'] = data.apply(\n",
    "    lambda row: (row['TMIN'] + row['TMAX'])/2 if np.isnan(row['TAVG']) else row['TAVG'], axis = 1\n",
    ")"
   ]
  },
  {
   "cell_type": "code",
   "execution_count": 158,
   "metadata": {},
   "outputs": [
    {
     "name": "stdout",
     "output_type": "stream",
     "text": [
      "There are a total of 0 missing values for the average temperatures.\n"
     ]
    }
   ],
   "source": [
    "print(f'There are a total of {data.TAVG.isna().sum()} missing values for the average temperatures.')"
   ]
  },
  {
   "cell_type": "markdown",
   "metadata": {},
   "source": [
    "**Computing the historical values**"
   ]
  },
  {
   "cell_type": "markdown",
   "metadata": {},
   "source": [
    "Group the values by day of the year and compute the means and the max-min of every day:"
   ]
  },
  {
   "cell_type": "code",
   "execution_count": 159,
   "metadata": {},
   "outputs": [],
   "source": [
    "historical = data.groupby(\n",
    "    [data.DATE.dt.month, data.DATE.dt.day]\n",
    ").agg(\n",
    "    {\n",
    "        'PRCP' : 'mean',\n",
    "        'SNOW' : 'mean',\n",
    "        'TMAX' : ['mean', 'max'],\n",
    "        'TMIN' : ['mean', 'min'],\n",
    "        'TAVG' : 'mean'\n",
    "    }\n",
    ")"
   ]
  },
  {
   "cell_type": "markdown",
   "metadata": {},
   "source": [
    "Notice that we have problems with multilevel indices and multilevel column indices. We will have to fix that."
   ]
  },
  {
   "cell_type": "code",
   "execution_count": 160,
   "metadata": {},
   "outputs": [
    {
     "data": {
      "text/html": [
       "<div>\n",
       "<style scoped>\n",
       "    .dataframe tbody tr th:only-of-type {\n",
       "        vertical-align: middle;\n",
       "    }\n",
       "\n",
       "    .dataframe tbody tr th {\n",
       "        vertical-align: top;\n",
       "    }\n",
       "\n",
       "    .dataframe thead tr th {\n",
       "        text-align: left;\n",
       "    }\n",
       "\n",
       "    .dataframe thead tr:last-of-type th {\n",
       "        text-align: right;\n",
       "    }\n",
       "</style>\n",
       "<table border=\"1\" class=\"dataframe\">\n",
       "  <thead>\n",
       "    <tr>\n",
       "      <th></th>\n",
       "      <th></th>\n",
       "      <th>PRCP</th>\n",
       "      <th>SNOW</th>\n",
       "      <th colspan=\"2\" halign=\"left\">TMAX</th>\n",
       "      <th colspan=\"2\" halign=\"left\">TMIN</th>\n",
       "      <th>TAVG</th>\n",
       "    </tr>\n",
       "    <tr>\n",
       "      <th></th>\n",
       "      <th></th>\n",
       "      <th>mean</th>\n",
       "      <th>mean</th>\n",
       "      <th>mean</th>\n",
       "      <th>max</th>\n",
       "      <th>mean</th>\n",
       "      <th>min</th>\n",
       "      <th>mean</th>\n",
       "    </tr>\n",
       "    <tr>\n",
       "      <th>DATE</th>\n",
       "      <th>DATE</th>\n",
       "      <th></th>\n",
       "      <th></th>\n",
       "      <th></th>\n",
       "      <th></th>\n",
       "      <th></th>\n",
       "      <th></th>\n",
       "      <th></th>\n",
       "    </tr>\n",
       "  </thead>\n",
       "  <tbody>\n",
       "    <tr>\n",
       "      <th rowspan=\"5\" valign=\"top\">1</th>\n",
       "      <th>1</th>\n",
       "      <td>3.076190</td>\n",
       "      <td>0.000000</td>\n",
       "      <td>5.104762</td>\n",
       "      <td>16.1</td>\n",
       "      <td>-2.161905</td>\n",
       "      <td>-13.8</td>\n",
       "      <td>1.600000</td>\n",
       "    </tr>\n",
       "    <tr>\n",
       "      <th>2</th>\n",
       "      <td>1.295238</td>\n",
       "      <td>3.047619</td>\n",
       "      <td>4.666667</td>\n",
       "      <td>12.2</td>\n",
       "      <td>-2.866667</td>\n",
       "      <td>-12.2</td>\n",
       "      <td>1.028571</td>\n",
       "    </tr>\n",
       "    <tr>\n",
       "      <th>3</th>\n",
       "      <td>8.228571</td>\n",
       "      <td>6.904762</td>\n",
       "      <td>4.600000</td>\n",
       "      <td>15.6</td>\n",
       "      <td>-2.057143</td>\n",
       "      <td>-12.7</td>\n",
       "      <td>1.285714</td>\n",
       "    </tr>\n",
       "    <tr>\n",
       "      <th>4</th>\n",
       "      <td>2.247619</td>\n",
       "      <td>9.666667</td>\n",
       "      <td>5.519048</td>\n",
       "      <td>15.6</td>\n",
       "      <td>-2.390476</td>\n",
       "      <td>-16.0</td>\n",
       "      <td>1.723810</td>\n",
       "    </tr>\n",
       "    <tr>\n",
       "      <th>5</th>\n",
       "      <td>1.604762</td>\n",
       "      <td>3.285714</td>\n",
       "      <td>4.919048</td>\n",
       "      <td>13.3</td>\n",
       "      <td>-2.271429</td>\n",
       "      <td>-12.7</td>\n",
       "      <td>1.473810</td>\n",
       "    </tr>\n",
       "  </tbody>\n",
       "</table>\n",
       "</div>"
      ],
      "text/plain": [
       "               PRCP      SNOW      TMAX            TMIN            TAVG\n",
       "               mean      mean      mean   max      mean   min      mean\n",
       "DATE DATE                                                              \n",
       "1    1     3.076190  0.000000  5.104762  16.1 -2.161905 -13.8  1.600000\n",
       "     2     1.295238  3.047619  4.666667  12.2 -2.866667 -12.2  1.028571\n",
       "     3     8.228571  6.904762  4.600000  15.6 -2.057143 -12.7  1.285714\n",
       "     4     2.247619  9.666667  5.519048  15.6 -2.390476 -16.0  1.723810\n",
       "     5     1.604762  3.285714  4.919048  13.3 -2.271429 -12.7  1.473810"
      ]
     },
     "execution_count": 160,
     "metadata": {},
     "output_type": "execute_result"
    }
   ],
   "source": [
    "historical.head()"
   ]
  },
  {
   "cell_type": "code",
   "execution_count": 161,
   "metadata": {},
   "outputs": [],
   "source": [
    "# Flatten the multiIndex in the column space\n",
    "historical.columns = ['_'.join(col).strip() for col in historical.columns.values]"
   ]
  },
  {
   "cell_type": "code",
   "execution_count": 162,
   "metadata": {},
   "outputs": [],
   "source": [
    "# Flatten the multiIndex in the index space\n",
    "\n",
    "# Flatten the index into tuples\n",
    "historical.index = historical.index.to_flat_index()\n",
    "# Convert tuple objects to strings separated by '-'\n",
    "historical.index = [str(indx1) + '-' + str(indx2) for indx1, indx2 in historical.index.values]\n",
    "# Convert strings 'm-d' to datetime object from 2010, for joining purposes later on\n",
    "historical.index = pd.to_datetime(historical.index, format = '%m-%d')\n",
    "# Set index name\n",
    "historical.index.name = 'DATE'\n",
    "\n",
    "# Finally, reset the index in order to have Date as a column\n",
    "historical = historical.reset_index()"
   ]
  },
  {
   "cell_type": "markdown",
   "metadata": {},
   "source": [
    "Append a column of 0's, and the total maximum and the total minimum (for the last 20 years)."
   ]
  },
  {
   "cell_type": "code",
   "execution_count": 163,
   "metadata": {},
   "outputs": [],
   "source": [
    "# Append the all-zeroes column\n",
    "historical['zero'] = [0] * 365\n",
    "\n",
    "# Append the all-time-maximum temperature column\n",
    "maximum = historical.TMAX_max.max()\n",
    "maxvect = [maximum] * 365\n",
    "historical['total_max'] = maxvect\n",
    "\n",
    "# Append the all-time-minimum temperature column\n",
    "minimum = historical.TMIN_min.min()\n",
    "minvect = [minimum] * 365\n",
    "historical['total_min'] = minvect"
   ]
  },
  {
   "cell_type": "markdown",
   "metadata": {},
   "source": [
    "Display the historical dataframe:"
   ]
  },
  {
   "cell_type": "code",
   "execution_count": 164,
   "metadata": {},
   "outputs": [
    {
     "data": {
      "text/html": [
       "<div>\n",
       "<style scoped>\n",
       "    .dataframe tbody tr th:only-of-type {\n",
       "        vertical-align: middle;\n",
       "    }\n",
       "\n",
       "    .dataframe tbody tr th {\n",
       "        vertical-align: top;\n",
       "    }\n",
       "\n",
       "    .dataframe thead th {\n",
       "        text-align: right;\n",
       "    }\n",
       "</style>\n",
       "<table border=\"1\" class=\"dataframe\">\n",
       "  <thead>\n",
       "    <tr style=\"text-align: right;\">\n",
       "      <th></th>\n",
       "      <th>DATE</th>\n",
       "      <th>PRCP_mean</th>\n",
       "      <th>SNOW_mean</th>\n",
       "      <th>TMAX_mean</th>\n",
       "      <th>TMAX_max</th>\n",
       "      <th>TMIN_mean</th>\n",
       "      <th>TMIN_min</th>\n",
       "      <th>TAVG_mean</th>\n",
       "      <th>zero</th>\n",
       "      <th>total_max</th>\n",
       "      <th>total_min</th>\n",
       "    </tr>\n",
       "  </thead>\n",
       "  <tbody>\n",
       "    <tr>\n",
       "      <th>0</th>\n",
       "      <td>1900-01-01</td>\n",
       "      <td>3.076190</td>\n",
       "      <td>0.000000</td>\n",
       "      <td>5.104762</td>\n",
       "      <td>16.1</td>\n",
       "      <td>-2.161905</td>\n",
       "      <td>-13.8</td>\n",
       "      <td>1.600000</td>\n",
       "      <td>0</td>\n",
       "      <td>39.4</td>\n",
       "      <td>-17.2</td>\n",
       "    </tr>\n",
       "    <tr>\n",
       "      <th>1</th>\n",
       "      <td>1900-01-02</td>\n",
       "      <td>1.295238</td>\n",
       "      <td>3.047619</td>\n",
       "      <td>4.666667</td>\n",
       "      <td>12.2</td>\n",
       "      <td>-2.866667</td>\n",
       "      <td>-12.2</td>\n",
       "      <td>1.028571</td>\n",
       "      <td>0</td>\n",
       "      <td>39.4</td>\n",
       "      <td>-17.2</td>\n",
       "    </tr>\n",
       "    <tr>\n",
       "      <th>2</th>\n",
       "      <td>1900-01-03</td>\n",
       "      <td>8.228571</td>\n",
       "      <td>6.904762</td>\n",
       "      <td>4.600000</td>\n",
       "      <td>15.6</td>\n",
       "      <td>-2.057143</td>\n",
       "      <td>-12.7</td>\n",
       "      <td>1.285714</td>\n",
       "      <td>0</td>\n",
       "      <td>39.4</td>\n",
       "      <td>-17.2</td>\n",
       "    </tr>\n",
       "    <tr>\n",
       "      <th>3</th>\n",
       "      <td>1900-01-04</td>\n",
       "      <td>2.247619</td>\n",
       "      <td>9.666667</td>\n",
       "      <td>5.519048</td>\n",
       "      <td>15.6</td>\n",
       "      <td>-2.390476</td>\n",
       "      <td>-16.0</td>\n",
       "      <td>1.723810</td>\n",
       "      <td>0</td>\n",
       "      <td>39.4</td>\n",
       "      <td>-17.2</td>\n",
       "    </tr>\n",
       "    <tr>\n",
       "      <th>4</th>\n",
       "      <td>1900-01-05</td>\n",
       "      <td>1.604762</td>\n",
       "      <td>3.285714</td>\n",
       "      <td>4.919048</td>\n",
       "      <td>13.3</td>\n",
       "      <td>-2.271429</td>\n",
       "      <td>-12.7</td>\n",
       "      <td>1.473810</td>\n",
       "      <td>0</td>\n",
       "      <td>39.4</td>\n",
       "      <td>-17.2</td>\n",
       "    </tr>\n",
       "    <tr>\n",
       "      <th>...</th>\n",
       "      <td>...</td>\n",
       "      <td>...</td>\n",
       "      <td>...</td>\n",
       "      <td>...</td>\n",
       "      <td>...</td>\n",
       "      <td>...</td>\n",
       "      <td>...</td>\n",
       "      <td>...</td>\n",
       "      <td>...</td>\n",
       "      <td>...</td>\n",
       "      <td>...</td>\n",
       "    </tr>\n",
       "    <tr>\n",
       "      <th>360</th>\n",
       "      <td>1900-12-27</td>\n",
       "      <td>2.542857</td>\n",
       "      <td>7.142857</td>\n",
       "      <td>6.366667</td>\n",
       "      <td>17.2</td>\n",
       "      <td>-0.095238</td>\n",
       "      <td>-8.2</td>\n",
       "      <td>3.166667</td>\n",
       "      <td>0</td>\n",
       "      <td>39.4</td>\n",
       "      <td>-17.2</td>\n",
       "    </tr>\n",
       "    <tr>\n",
       "      <th>361</th>\n",
       "      <td>1900-12-28</td>\n",
       "      <td>1.323810</td>\n",
       "      <td>0.285714</td>\n",
       "      <td>6.480952</td>\n",
       "      <td>17.8</td>\n",
       "      <td>-1.023810</td>\n",
       "      <td>-11.6</td>\n",
       "      <td>2.973810</td>\n",
       "      <td>0</td>\n",
       "      <td>39.4</td>\n",
       "      <td>-17.2</td>\n",
       "    </tr>\n",
       "    <tr>\n",
       "      <th>362</th>\n",
       "      <td>1900-12-29</td>\n",
       "      <td>4.609524</td>\n",
       "      <td>0.476190</td>\n",
       "      <td>6.000000</td>\n",
       "      <td>12.2</td>\n",
       "      <td>-0.671429</td>\n",
       "      <td>-11.0</td>\n",
       "      <td>2.869048</td>\n",
       "      <td>0</td>\n",
       "      <td>39.4</td>\n",
       "      <td>-17.2</td>\n",
       "    </tr>\n",
       "    <tr>\n",
       "      <th>363</th>\n",
       "      <td>1900-12-30</td>\n",
       "      <td>1.514286</td>\n",
       "      <td>13.190476</td>\n",
       "      <td>5.509524</td>\n",
       "      <td>12.2</td>\n",
       "      <td>-1.519048</td>\n",
       "      <td>-8.2</td>\n",
       "      <td>2.207143</td>\n",
       "      <td>0</td>\n",
       "      <td>39.4</td>\n",
       "      <td>-17.2</td>\n",
       "    </tr>\n",
       "    <tr>\n",
       "      <th>364</th>\n",
       "      <td>1900-12-31</td>\n",
       "      <td>2.552381</td>\n",
       "      <td>2.428571</td>\n",
       "      <td>4.409524</td>\n",
       "      <td>13.3</td>\n",
       "      <td>-1.509524</td>\n",
       "      <td>-12.7</td>\n",
       "      <td>1.442857</td>\n",
       "      <td>0</td>\n",
       "      <td>39.4</td>\n",
       "      <td>-17.2</td>\n",
       "    </tr>\n",
       "  </tbody>\n",
       "</table>\n",
       "<p>365 rows × 11 columns</p>\n",
       "</div>"
      ],
      "text/plain": [
       "          DATE  PRCP_mean  SNOW_mean  TMAX_mean  TMAX_max  TMIN_mean  \\\n",
       "0   1900-01-01   3.076190   0.000000   5.104762      16.1  -2.161905   \n",
       "1   1900-01-02   1.295238   3.047619   4.666667      12.2  -2.866667   \n",
       "2   1900-01-03   8.228571   6.904762   4.600000      15.6  -2.057143   \n",
       "3   1900-01-04   2.247619   9.666667   5.519048      15.6  -2.390476   \n",
       "4   1900-01-05   1.604762   3.285714   4.919048      13.3  -2.271429   \n",
       "..         ...        ...        ...        ...       ...        ...   \n",
       "360 1900-12-27   2.542857   7.142857   6.366667      17.2  -0.095238   \n",
       "361 1900-12-28   1.323810   0.285714   6.480952      17.8  -1.023810   \n",
       "362 1900-12-29   4.609524   0.476190   6.000000      12.2  -0.671429   \n",
       "363 1900-12-30   1.514286  13.190476   5.509524      12.2  -1.519048   \n",
       "364 1900-12-31   2.552381   2.428571   4.409524      13.3  -1.509524   \n",
       "\n",
       "     TMIN_min  TAVG_mean  zero  total_max  total_min  \n",
       "0       -13.8   1.600000     0       39.4      -17.2  \n",
       "1       -12.2   1.028571     0       39.4      -17.2  \n",
       "2       -12.7   1.285714     0       39.4      -17.2  \n",
       "3       -16.0   1.723810     0       39.4      -17.2  \n",
       "4       -12.7   1.473810     0       39.4      -17.2  \n",
       "..        ...        ...   ...        ...        ...  \n",
       "360      -8.2   3.166667     0       39.4      -17.2  \n",
       "361     -11.6   2.973810     0       39.4      -17.2  \n",
       "362     -11.0   2.869048     0       39.4      -17.2  \n",
       "363      -8.2   2.207143     0       39.4      -17.2  \n",
       "364     -12.7   1.442857     0       39.4      -17.2  \n",
       "\n",
       "[365 rows x 11 columns]"
      ]
     },
     "metadata": {},
     "output_type": "display_data"
    }
   ],
   "source": [
    "display(historical)"
   ]
  },
  {
   "cell_type": "markdown",
   "metadata": {},
   "source": [
    "**Cumulative precipitations**"
   ]
  },
  {
   "cell_type": "markdown",
   "metadata": {},
   "source": [
    "We compute the cumulative precipitations for every month of every year of the data:"
   ]
  },
  {
   "cell_type": "code",
   "execution_count": 165,
   "metadata": {},
   "outputs": [],
   "source": [
    "for year in range(1998, 2019):\n",
    "    # Sub-dataframe with that specific year\n",
    "    data_year = data[data.DATE.dt.year == year].reset_index(drop = True)\n",
    "    \n",
    "    # Vector with the new ppt for this year\n",
    "    new_ppt = [np.nan] * 365\n",
    "    old_ppt = [obs[1] for obs in data_year.values]\n",
    "    \n",
    "    # For every day of the year\n",
    "    new_ppt[0] = old_ppt[0]\n",
    "    for i in range(1, 365):\n",
    "        if data_year.iloc[i].DATE.date().month == data_year.iloc[i-1].DATE.date().month:\n",
    "            new_ppt[i] = old_ppt[i] + new_ppt[i-1]\n",
    "        else:\n",
    "            new_ppt[i] = old_ppt[i]\n",
    "            \n",
    "    data.PRCP[data.DATE.dt.year == year] = new_ppt "
   ]
  },
  {
   "cell_type": "markdown",
   "metadata": {},
   "source": [
    "Display the data:"
   ]
  },
  {
   "cell_type": "code",
   "execution_count": 166,
   "metadata": {},
   "outputs": [
    {
     "data": {
      "text/html": [
       "<div>\n",
       "<style scoped>\n",
       "    .dataframe tbody tr th:only-of-type {\n",
       "        vertical-align: middle;\n",
       "    }\n",
       "\n",
       "    .dataframe tbody tr th {\n",
       "        vertical-align: top;\n",
       "    }\n",
       "\n",
       "    .dataframe thead th {\n",
       "        text-align: right;\n",
       "    }\n",
       "</style>\n",
       "<table border=\"1\" class=\"dataframe\">\n",
       "  <thead>\n",
       "    <tr style=\"text-align: right;\">\n",
       "      <th></th>\n",
       "      <th>DATE</th>\n",
       "      <th>PRCP</th>\n",
       "      <th>SNOW</th>\n",
       "      <th>TAVG</th>\n",
       "      <th>TMAX</th>\n",
       "      <th>TMIN</th>\n",
       "    </tr>\n",
       "  </thead>\n",
       "  <tbody>\n",
       "    <tr>\n",
       "      <th>0</th>\n",
       "      <td>1998-01-01</td>\n",
       "      <td>0.0</td>\n",
       "      <td>0.0</td>\n",
       "      <td>-5.00</td>\n",
       "      <td>-0.6</td>\n",
       "      <td>-9.4</td>\n",
       "    </tr>\n",
       "    <tr>\n",
       "      <th>1</th>\n",
       "      <td>1998-01-02</td>\n",
       "      <td>0.0</td>\n",
       "      <td>0.0</td>\n",
       "      <td>3.05</td>\n",
       "      <td>7.8</td>\n",
       "      <td>-1.7</td>\n",
       "    </tr>\n",
       "    <tr>\n",
       "      <th>2</th>\n",
       "      <td>1998-01-03</td>\n",
       "      <td>0.0</td>\n",
       "      <td>0.0</td>\n",
       "      <td>8.60</td>\n",
       "      <td>12.8</td>\n",
       "      <td>4.4</td>\n",
       "    </tr>\n",
       "    <tr>\n",
       "      <th>3</th>\n",
       "      <td>1998-01-04</td>\n",
       "      <td>0.3</td>\n",
       "      <td>0.0</td>\n",
       "      <td>11.15</td>\n",
       "      <td>15.6</td>\n",
       "      <td>6.7</td>\n",
       "    </tr>\n",
       "    <tr>\n",
       "      <th>4</th>\n",
       "      <td>1998-01-05</td>\n",
       "      <td>0.3</td>\n",
       "      <td>0.0</td>\n",
       "      <td>7.20</td>\n",
       "      <td>9.4</td>\n",
       "      <td>5.0</td>\n",
       "    </tr>\n",
       "    <tr>\n",
       "      <th>...</th>\n",
       "      <td>...</td>\n",
       "      <td>...</td>\n",
       "      <td>...</td>\n",
       "      <td>...</td>\n",
       "      <td>...</td>\n",
       "      <td>...</td>\n",
       "    </tr>\n",
       "    <tr>\n",
       "      <th>7660</th>\n",
       "      <td>2018-12-27</td>\n",
       "      <td>115.6</td>\n",
       "      <td>0.0</td>\n",
       "      <td>4.40</td>\n",
       "      <td>6.7</td>\n",
       "      <td>2.8</td>\n",
       "    </tr>\n",
       "    <tr>\n",
       "      <th>7661</th>\n",
       "      <td>2018-12-28</td>\n",
       "      <td>140.5</td>\n",
       "      <td>0.0</td>\n",
       "      <td>8.00</td>\n",
       "      <td>12.8</td>\n",
       "      <td>6.1</td>\n",
       "    </tr>\n",
       "    <tr>\n",
       "      <th>7662</th>\n",
       "      <td>2018-12-29</td>\n",
       "      <td>140.5</td>\n",
       "      <td>0.0</td>\n",
       "      <td>10.20</td>\n",
       "      <td>12.2</td>\n",
       "      <td>3.9</td>\n",
       "    </tr>\n",
       "    <tr>\n",
       "      <th>7663</th>\n",
       "      <td>2018-12-30</td>\n",
       "      <td>140.5</td>\n",
       "      <td>0.0</td>\n",
       "      <td>3.00</td>\n",
       "      <td>3.9</td>\n",
       "      <td>0.0</td>\n",
       "    </tr>\n",
       "    <tr>\n",
       "      <th>7664</th>\n",
       "      <td>2018-12-31</td>\n",
       "      <td>171.7</td>\n",
       "      <td>0.0</td>\n",
       "      <td>2.70</td>\n",
       "      <td>9.4</td>\n",
       "      <td>-1.0</td>\n",
       "    </tr>\n",
       "  </tbody>\n",
       "</table>\n",
       "<p>7665 rows × 6 columns</p>\n",
       "</div>"
      ],
      "text/plain": [
       "           DATE   PRCP  SNOW   TAVG  TMAX  TMIN\n",
       "0    1998-01-01    0.0   0.0  -5.00  -0.6  -9.4\n",
       "1    1998-01-02    0.0   0.0   3.05   7.8  -1.7\n",
       "2    1998-01-03    0.0   0.0   8.60  12.8   4.4\n",
       "3    1998-01-04    0.3   0.0  11.15  15.6   6.7\n",
       "4    1998-01-05    0.3   0.0   7.20   9.4   5.0\n",
       "...         ...    ...   ...    ...   ...   ...\n",
       "7660 2018-12-27  115.6   0.0   4.40   6.7   2.8\n",
       "7661 2018-12-28  140.5   0.0   8.00  12.8   6.1\n",
       "7662 2018-12-29  140.5   0.0  10.20  12.2   3.9\n",
       "7663 2018-12-30  140.5   0.0   3.00   3.9   0.0\n",
       "7664 2018-12-31  171.7   0.0   2.70   9.4  -1.0\n",
       "\n",
       "[7665 rows x 6 columns]"
      ]
     },
     "metadata": {},
     "output_type": "display_data"
    }
   ],
   "source": [
    "display(data)"
   ]
  },
  {
   "cell_type": "markdown",
   "metadata": {},
   "source": [
    "**Computing the max-min all-time records for every year**"
   ]
  },
  {
   "cell_type": "code",
   "execution_count": 167,
   "metadata": {},
   "outputs": [],
   "source": [
    "records = []\n",
    "\n",
    "for year, year_data in data.groupby(data.DATE.dt.year):\n",
    "    year_data = year_data.reset_index(drop = True)\n",
    "    year_maxRecords = list(year_data.TMAX >= historical.TMAX_max)\n",
    "    year_minRecords = list(year_data.TMIN <= historical.TMIN_min)\n",
    "    \n",
    "    # Apend dictionaries to the list 'records' to avoid problems with dataframes\n",
    "    # Each dictionary represents one row\n",
    "    for maximum in year_data.iloc[year_maxRecords].values:\n",
    "        new_record = {\n",
    "            'DATE' : maximum[0],\n",
    "            'temp' : maximum[4],\n",
    "            'kind' : 'Max'\n",
    "        }\n",
    "        records.append(new_record)\n",
    "    for minimum in year_data.iloc[year_minRecords].values:\n",
    "        new_record = {\n",
    "            'DATE' : minimum[0],\n",
    "            'temp' : minimum[5],\n",
    "            'kind' : 'Min'\n",
    "        }\n",
    "        records.append(new_record)\n",
    "\n",
    "# Convert the list of rows to a pandas DataFrame\n",
    "records = pd.DataFrame(records)"
   ]
  },
  {
   "cell_type": "markdown",
   "metadata": {},
   "source": [
    "**Save the files to the ./DATA/ directory**"
   ]
  },
  {
   "cell_type": "code",
   "execution_count": 168,
   "metadata": {},
   "outputs": [],
   "source": [
    "historical.to_csv(r'./DATA/historical.csv', index = False)\n",
    "data.to_csv(r'./DATA/allYears.csv', index = False)\n",
    "records.to_csv(r'./DATA/records.csv', index = False)"
   ]
  }
 ],
 "metadata": {
  "kernelspec": {
   "display_name": "Python 3",
   "language": "python",
   "name": "python3"
  },
  "language_info": {
   "codemirror_mode": {
    "name": "ipython",
    "version": 3
   },
   "file_extension": ".py",
   "mimetype": "text/x-python",
   "name": "python",
   "nbconvert_exporter": "python",
   "pygments_lexer": "ipython3",
   "version": "3.7.5"
  }
 },
 "nbformat": 4,
 "nbformat_minor": 4
}
